{
 "cells": [
  {
   "cell_type": "markdown",
   "id": "eba8126c-2f7b-4f45-8a52-4e79567ea8f1",
   "metadata": {},
   "source": [
    "# TNE Object Access SDK"
   ]
  },
  {
   "cell_type": "markdown",
   "id": "28a46b19-5fe8-40d0-b112-b648b10dbef8",
   "metadata": {},
   "source": [
    "## Initialize Session"
   ]
  },
  {
   "cell_type": "code",
   "execution_count": 3,
   "id": "e73f4a5c-cfc8-47f1-9bc8-3149143ab941",
   "metadata": {
    "ExecuteTime": {
     "end_time": "2025-02-10T19:58:29.315735Z",
     "start_time": "2025-02-10T19:58:27.896893Z"
    }
   },
   "outputs": [],
   "source": [
    "from tne.TNE import TNE\n",
    "\n",
    "UID = \"114520153332760575553\"\n",
    "session = TNE(UID, \"bp-authoring-files\")"
   ]
  },
  {
   "cell_type": "markdown",
   "id": "6c518a3e-427c-43f5-8c52-a3ba1ac1d4a8",
   "metadata": {},
   "source": [
    "## List Bucket Contents"
   ]
  },
  {
   "cell_type": "code",
   "execution_count": 4,
   "id": "f6f5057e-c0fb-41eb-a140-bb2e2c0c043f",
   "metadata": {
    "ExecuteTime": {
     "end_time": "2025-02-10T19:58:39.388718Z",
     "start_time": "2025-02-10T19:58:38.701227Z"
    }
   },
   "outputs": [
    {
     "data": {
      "text/plain": "['d/114520153332760575553/Data/',\n 'd/114520153332760575553/Data/- handbags chat explain.txt',\n 'd/114520153332760575553/Data/131 - Confidential Fiber Suppliers Assessment 1.2 08-09-07-2024.xlsx',\n 'd/114520153332760575553/Data/131 - Confidential Fiberpartner Supplier Assessment Report 2024.docx.txt',\n 'd/114520153332760575553/Data/131_hop_than.csv',\n 'd/114520153332760575553/Data/1729712078-915673.png',\n 'd/114520153332760575553/Data/1729712241-8568685.png',\n 'd/114520153332760575553/Data/1729712499-2458847.png',\n 'd/114520153332760575553/Data/1729796860-1129415.png',\n 'd/114520153332760575553/Data/1729798734-9448273.png']"
     },
     "execution_count": 4,
     "metadata": {},
     "output_type": "execute_result"
    }
   ],
   "source": [
    "session.list_data()[:10]"
   ]
  },
  {
   "cell_type": "markdown",
   "id": "81394aa6-2cec-4648-be2b-4facf845d2dd",
   "metadata": {},
   "source": [
    "## Load Data\n",
    "### Supported types\n",
    "* CSV (as DataFrame)\n",
    "* Excel (as DataFrame)\n",
    "* Text (`.txt`, `.md`, etc.))\n",
    "* Images (`.jpg`, `.jpeg`, `.png`)\n",
    "* JSON\n",
    "* YAML"
   ]
  },
  {
   "cell_type": "code",
   "execution_count": 5,
   "id": "dc46c925-4432-4c07-a077-608467958f3a",
   "metadata": {
    "ExecuteTime": {
     "end_time": "2025-02-10T19:58:45.967212Z",
     "start_time": "2025-02-10T19:58:42.414681Z"
    }
   },
   "outputs": [],
   "source": [
    "csv_df = session.get_object(\"shopping_list_with_periods_cleaned.csv\")\n",
    "excel_df = session.get_object(\"shopping_list_cleaned.xlsx\")\n",
    "txt_file = session.get_object(\"442-subset-code-generator-instructions-2024-08-20.txt\")\n",
    "png_image = session.get_object(\"Award_Statuette_Under_Starry_Sky_Ceremony_v1.png\")"
   ]
  },
  {
   "cell_type": "code",
   "execution_count": 6,
   "id": "4db5e653-4268-4c73-bb10-e24b03949545",
   "metadata": {
    "ExecuteTime": {
     "end_time": "2025-02-10T19:58:46.005594Z",
     "start_time": "2025-02-10T19:58:45.966329Z"
    }
   },
   "outputs": [
    {
     "data": {
      "text/plain": "  product_subgroup_desc                  style_colour_desc gender  \\\n0              Backpack       Handbag Backpack Style 39102  Women   \n1         Crossbody bag  Handbag Crossbody bag Style 51686  Women   \n2         Crossbody bag  Handbag Crossbody bag Style 52144  Women   \n3                  City           Handbag City Style 48818  Women   \n4              Tote bag       Handbag Tote bag Style 46834  Women   \n\n   style_colour_code  period  sales  beg_inv  end_inv  total_stock  \\\n0         2001037501  202204      4        6        0            4   \n1         2001782213  202206     28       96       68           96   \n2         2001790151  202210     90      223      133          223   \n3         2001666951  202207      2        3        2            4   \n4         2001581151  202209     67      134      263          332   \n\n   weeks_selling  ... standard_cost_price  material  product_launch_date  \\\n0             44  ...               41.72       NaN           2017-07-10   \n1             27  ...               30.72     Vinyl           2021-04-21   \n2              9  ...               33.44     Vinyl           1900-01-01   \n3             40  ...              149.41       NaN           1900-01-01   \n4             44  ...               54.22     Vinyl           2020-05-03   \n\n  colour_description         aur        msrp  distinct_store_count  pareto  \\\n0             Cognac  106.053750   58.792500                    54    Tail   \n1             Yellow  107.885714  126.535714                   245       A   \n2              Green  134.425280  160.507303                   268       A   \n3              Pearl  253.096666    2.953333                    26       C   \n4              Cream  120.772605  120.361830                   262       A   \n\n       month         season  \n0      April  Spring/Summer  \n1       June  Spring/Summer  \n2    October    Fall/Winter  \n3       July    Fall/Winter  \n4  September    Fall/Winter  \n\n[5 rows x 22 columns]",
      "text/html": "<div>\n<style scoped>\n    .dataframe tbody tr th:only-of-type {\n        vertical-align: middle;\n    }\n\n    .dataframe tbody tr th {\n        vertical-align: top;\n    }\n\n    .dataframe thead th {\n        text-align: right;\n    }\n</style>\n<table border=\"1\" class=\"dataframe\">\n  <thead>\n    <tr style=\"text-align: right;\">\n      <th></th>\n      <th>product_subgroup_desc</th>\n      <th>style_colour_desc</th>\n      <th>gender</th>\n      <th>style_colour_code</th>\n      <th>period</th>\n      <th>sales</th>\n      <th>beg_inv</th>\n      <th>end_inv</th>\n      <th>total_stock</th>\n      <th>weeks_selling</th>\n      <th>...</th>\n      <th>standard_cost_price</th>\n      <th>material</th>\n      <th>product_launch_date</th>\n      <th>colour_description</th>\n      <th>aur</th>\n      <th>msrp</th>\n      <th>distinct_store_count</th>\n      <th>pareto</th>\n      <th>month</th>\n      <th>season</th>\n    </tr>\n  </thead>\n  <tbody>\n    <tr>\n      <th>0</th>\n      <td>Backpack</td>\n      <td>Handbag Backpack Style 39102</td>\n      <td>Women</td>\n      <td>2001037501</td>\n      <td>202204</td>\n      <td>4</td>\n      <td>6</td>\n      <td>0</td>\n      <td>4</td>\n      <td>44</td>\n      <td>...</td>\n      <td>41.72</td>\n      <td>NaN</td>\n      <td>2017-07-10</td>\n      <td>Cognac</td>\n      <td>106.053750</td>\n      <td>58.792500</td>\n      <td>54</td>\n      <td>Tail</td>\n      <td>April</td>\n      <td>Spring/Summer</td>\n    </tr>\n    <tr>\n      <th>1</th>\n      <td>Crossbody bag</td>\n      <td>Handbag Crossbody bag Style 51686</td>\n      <td>Women</td>\n      <td>2001782213</td>\n      <td>202206</td>\n      <td>28</td>\n      <td>96</td>\n      <td>68</td>\n      <td>96</td>\n      <td>27</td>\n      <td>...</td>\n      <td>30.72</td>\n      <td>Vinyl</td>\n      <td>2021-04-21</td>\n      <td>Yellow</td>\n      <td>107.885714</td>\n      <td>126.535714</td>\n      <td>245</td>\n      <td>A</td>\n      <td>June</td>\n      <td>Spring/Summer</td>\n    </tr>\n    <tr>\n      <th>2</th>\n      <td>Crossbody bag</td>\n      <td>Handbag Crossbody bag Style 52144</td>\n      <td>Women</td>\n      <td>2001790151</td>\n      <td>202210</td>\n      <td>90</td>\n      <td>223</td>\n      <td>133</td>\n      <td>223</td>\n      <td>9</td>\n      <td>...</td>\n      <td>33.44</td>\n      <td>Vinyl</td>\n      <td>1900-01-01</td>\n      <td>Green</td>\n      <td>134.425280</td>\n      <td>160.507303</td>\n      <td>268</td>\n      <td>A</td>\n      <td>October</td>\n      <td>Fall/Winter</td>\n    </tr>\n    <tr>\n      <th>3</th>\n      <td>City</td>\n      <td>Handbag City Style 48818</td>\n      <td>Women</td>\n      <td>2001666951</td>\n      <td>202207</td>\n      <td>2</td>\n      <td>3</td>\n      <td>2</td>\n      <td>4</td>\n      <td>40</td>\n      <td>...</td>\n      <td>149.41</td>\n      <td>NaN</td>\n      <td>1900-01-01</td>\n      <td>Pearl</td>\n      <td>253.096666</td>\n      <td>2.953333</td>\n      <td>26</td>\n      <td>C</td>\n      <td>July</td>\n      <td>Fall/Winter</td>\n    </tr>\n    <tr>\n      <th>4</th>\n      <td>Tote bag</td>\n      <td>Handbag Tote bag Style 46834</td>\n      <td>Women</td>\n      <td>2001581151</td>\n      <td>202209</td>\n      <td>67</td>\n      <td>134</td>\n      <td>263</td>\n      <td>332</td>\n      <td>44</td>\n      <td>...</td>\n      <td>54.22</td>\n      <td>Vinyl</td>\n      <td>2020-05-03</td>\n      <td>Cream</td>\n      <td>120.772605</td>\n      <td>120.361830</td>\n      <td>262</td>\n      <td>A</td>\n      <td>September</td>\n      <td>Fall/Winter</td>\n    </tr>\n  </tbody>\n</table>\n<p>5 rows × 22 columns</p>\n</div>"
     },
     "execution_count": 6,
     "metadata": {},
     "output_type": "execute_result"
    }
   ],
   "source": [
    "csv_df.head()"
   ]
  },
  {
   "cell_type": "code",
   "execution_count": 7,
   "id": "385d8031-eaad-4427-a735-e772a35bacf8",
   "metadata": {
    "ExecuteTime": {
     "end_time": "2025-02-10T19:58:46.006116Z",
     "start_time": "2025-02-10T19:58:45.973386Z"
    }
   },
   "outputs": [
    {
     "data": {
      "text/plain": "{'shopping_list_with_periods_clea':      product_subgroup_desc                  style_colour_desc gender  \\\n 0                 Backpack       Handbag Backpack Style 39102  Women   \n 1            Crossbody bag  Handbag Crossbody bag Style 51686  Women   \n 2            Crossbody bag  Handbag Crossbody bag Style 52144  Women   \n 3                     City           Handbag City Style 48818  Women   \n 4                 Tote bag       Handbag Tote bag Style 46834  Women   \n ...                    ...                                ...    ...   \n 1048         Crossbody bag  Handbag Crossbody bag Style 48811  Women   \n 1049                Clutch         Handbag Clutch Style 50301  Women   \n 1050                  City           Handbag City Style 46846  Women   \n 1051                Clutch         Handbag Clutch Style 46863  Women   \n 1052              Backpack       Handbag Backpack Style 46904  Women   \n \n       style_colour_code  period  sales  beg_inv  end_inv  total_stock  \\\n 0            2001037501  202204      4        6        0            4   \n 1            2001782213  202206     28       96       68           96   \n 2            2001790151  202210     90      223      133          223   \n 3            2001666951  202207      2        3        2            4   \n 4            2001581151  202209     67      134      263          332   \n ...                 ...     ...    ...      ...      ...          ...   \n 1048         2001666729  202207     39       84       77          116   \n 1049         2001717713  202211      7        4        1            8   \n 1050         2001581451  202203      1        1        1            2   \n 1051         2001581751  202203      0        0        1            1   \n 1052         2001582843  202203     14       13        1           15   \n \n       weeks_selling  ... standard_cost_price         material  \\\n 0                44  ...               41.72              NaN   \n 1                27  ...               30.72            Vinyl   \n 2                 9  ...               33.44            Vinyl   \n 3                40  ...              149.41              NaN   \n 4                44  ...               54.22            Vinyl   \n ...             ...  ...                 ...              ...   \n 1048             31  ...               39.58  Synthetic suede   \n 1049             31  ...               34.24              NaN   \n 1050              5  ...               68.09              NaN   \n 1051             14  ...               26.88              NaN   \n 1052             18  ...               62.04              NaN   \n \n       product_launch_date colour_description         aur        msrp  \\\n 0              2017-07-10             Cognac  106.053750   58.792500   \n 1              2021-04-21             Yellow  107.885714  126.535714   \n 2              1900-01-01              Green  134.425280  160.507303   \n 3              1900-01-01              Pearl  253.096666    2.953333   \n 4              2020-05-03              Cream  120.772605  120.361830   \n ...                   ...                ...         ...         ...   \n 1048           2022-09-25        Black Metal  104.832049  133.470157   \n 1049           2021-04-21        Black Metal   42.095000   27.960000   \n 1050           2021-09-10                Red  147.930000  179.000000   \n 1051           2021-05-30        Black Metal   28.510000  -34.500000   \n 1052           2020-10-05              Cream  117.833666  113.642000   \n \n       distinct_store_count  pareto      month         season  \n 0                       54    Tail      April  Spring/Summer  \n 1                      245       A       June  Spring/Summer  \n 2                      268       A    October    Fall/Winter  \n 3                       26       C       July    Fall/Winter  \n 4                      262       A  September    Fall/Winter  \n ...                    ...     ...        ...            ...  \n 1048                   262       A       July    Fall/Winter  \n 1049                   238       A   November    Fall/Winter  \n 1050                    23       A      March  Spring/Summer  \n 1051                    44    Tail      March  Spring/Summer  \n 1052                    75    Tail      March  Spring/Summer  \n \n [1053 rows x 22 columns]}"
     },
     "execution_count": 7,
     "metadata": {},
     "output_type": "execute_result"
    }
   ],
   "source": [
    "excel_df"
   ]
  },
  {
   "cell_type": "markdown",
   "id": "d4c8a809-eb84-42e7-98e0-445c8e58d449",
   "metadata": {},
   "source": [
    "### Direct bytes access\n",
    "\n",
    "For unsupported file extensions, `session.get_object()` will throw an error. In these cases, you can use `session.get_object_bytes()`."
   ]
  },
  {
   "cell_type": "code",
   "execution_count": 8,
   "id": "de2ae310-5970-45f2-90af-1c7d47296a58",
   "metadata": {
    "ExecuteTime": {
     "end_time": "2025-02-10T19:58:48.215655Z",
     "start_time": "2025-02-10T19:58:48.080818Z"
    }
   },
   "outputs": [
    {
     "name": "stdout",
     "output_type": "stream",
     "text": [
      "Unsupported file extension: fake. Use method get_object_bytes() to access this object.\n"
     ]
    }
   ],
   "source": [
    "try:\n",
    "    unsupported_file = session.get_object(\"debug.fake\")\n",
    "except ValueError as e:\n",
    "    print(e)"
   ]
  },
  {
   "cell_type": "code",
   "execution_count": 9,
   "id": "01173a16-e4bd-49e3-9bdd-e7689190c508",
   "metadata": {
    "ExecuteTime": {
     "end_time": "2025-02-10T19:58:48.561198Z",
     "start_time": "2025-02-10T19:58:48.460160Z"
    }
   },
   "outputs": [
    {
     "data": {
      "text/plain": "'* Response from Model G *\\n\\nBruce Springsteen, often referred to as \"The Boss,\" is an iconic American singer-songwriter and musician known for his poetic lyrics, distinctive voice, and energetic stage performances. Born on September 23, 1949, in Long Branch, New Jersey, Springsteen grew up in a working-class family, an experience that deeply influenced his music. He is best known for his work with the E Street Band, with whom he has recorded the majority of his albums.\\n\\nSpringsteen\\'s music is characterized by its focus on the experiences of everyday Americans, exploring themes of love, loss, hope, and the American dream. His breakthrough album, \"Born to Run\" (1975), established him as a leading figure in rock music. He achieved further critical and commercial success with albums like \"Born in the U.S.A.\" (1984), which became one of the best-selling albums of all time.\\n\\nOver his career, Springsteen has won numerous awards, including multiple Grammy Awards, an Academy Award for Best Original Song for \"Streets of Philadelphia,\" and the Presidential Medal of Freedom. He has been inducted into the Rock and Roll Hall of Fame and the Songwriters Hall of Fame. Springsteen\\'s enduring popularity and his impact on American music and culture have made him a legendary figure in the world of rock and roll.'"
     },
     "execution_count": 9,
     "metadata": {},
     "output_type": "execute_result"
    }
   ],
   "source": [
    "unsupported_file_bytes = session.get_object_bytes(\"debug.fake\")\n",
    "unsupported_file_text = unsupported_file_bytes.decode('utf-8')\n",
    "unsupported_file_text"
   ]
  },
  {
   "cell_type": "markdown",
   "source": [
    "## Database Access"
   ],
   "metadata": {
    "collapsed": false
   },
   "id": "a744b23cbc030d83"
  },
  {
   "cell_type": "code",
   "execution_count": 11,
   "outputs": [],
   "source": [
    "db_session = TNE(\n",
    "    db_name=\"ebp\", \n",
    "    db_host=\"postgresql-ebp.cfwmuvh4blso.us-west-2.rds.amazonaws.com\",\n",
    "    db_pass=\"i6XFDgR6KGkTd\"\n",
    ")"
   ],
   "metadata": {
    "collapsed": false,
    "ExecuteTime": {
     "end_time": "2025-02-10T20:07:28.871099Z",
     "start_time": "2025-02-10T20:07:28.868826Z"
    }
   },
   "id": "a2592ea7c987aa2a"
  },
  {
   "cell_type": "code",
   "execution_count": 16,
   "outputs": [
    {
     "data": {
      "text/plain": "                        plandesc channelname   family subfamily   department  \\\n0     308 Handbag basic demo tne      CH0005  Handbag  Baby bag  Accessories   \n1     308 Handbag basic demo tne      CH0005  Handbag  Baby bag  Accessories   \n2     308 Handbag basic demo tne      CH0005  Handbag  Baby bag  Accessories   \n3     308 Handbag basic demo tne      CH0005  Handbag  Baby bag  Accessories   \n4     308 Handbag basic demo tne      CH0005  Handbag  Baby bag  Accessories   \n...                          ...         ...      ...       ...          ...   \n4458  308 Handbag basic demo tne      CH0005  Handbag  Tote bag  Accessories   \n4459  308 Handbag basic demo tne      CH0005  Handbag  Tote bag  Accessories   \n4460  308 Handbag basic demo tne      CH0005  Handbag  Tote bag  Accessories   \n4461  308 Handbag basic demo tne      CH0005  Handbag  Tote bag  Accessories   \n4462  308 Handbag basic demo tne      CH0005  Handbag  Tote bag  Accessories   \n\n             stylecolordescription skugenter skurangesegment primarycluster  \\\n0     Handbag Baby bag Style 37682      NULL            NULL              0   \n1     Handbag Baby bag Style 37682      NULL            NULL              1   \n2     Handbag Baby bag Style 37682      NULL            NULL              2   \n3     Handbag Baby bag Style 37682      NULL            NULL              3   \n4     Handbag Baby bag Style 37682      NULL            NULL              4   \n...                            ...       ...             ...            ...   \n4458  Handbag Tote bag Style 53816      NULL            NULL              3   \n4459  Handbag Tote bag Style 53816      NULL            NULL              4   \n4460  Handbag Tote bag Style 53816      NULL            NULL              5   \n4461  Handbag Tote bag Style 53820      NULL            NULL              2   \n4462  Handbag Tote bag Style 53820      NULL            NULL              3   \n\n     secondarycluster  ... sales_val_across_specific_cluster  \\\n0                NULL  ...                              5140   \n1                NULL  ...                              4179   \n2                NULL  ...                              4894   \n3                NULL  ...                              3310   \n4                NULL  ...                              2073   \n...               ...  ...                               ...   \n4458             NULL  ...                              5229   \n4459             NULL  ...                              4194   \n4460             NULL  ...                              1520   \n4461             NULL  ...                               279   \n4462             NULL  ...                               139   \n\n     sales_val_across_all_cluster sales_val_nonma_overall salesvalall  \\\n0                           20114                   15064       20114   \n1                           20114                   15064       20114   \n2                           20114                   15064       20114   \n3                           20114                   15064       20114   \n4                           20114                   15064       20114   \n...                           ...                     ...         ...   \n4458                        28716                   28716       28716   \n4459                        28716                   28716       28716   \n4460                        28716                   28716       28716   \n4461                          419                     419         419   \n4462                          419                     419         419   \n\n     totalstock warehouse_inv weeks_on_sale client_id region_id str_cnt  \n0           142          1202          NULL         3         1       1  \n1           111          1202          NULL         3         1       1  \n2           165          2404          NULL         3         1       1  \n3           103          1202          NULL         3         1       1  \n4            61          1202          NULL         3         1       1  \n...         ...           ...           ...       ...       ...     ...  \n4458         80           227          NULL         3         1       1  \n4459         51           227          NULL         3         1       1  \n4460          9           227          NULL         3         1       1  \n4461          2             0          NULL         3         1       1  \n4462          1             0          NULL         3         1       1  \n\n[4463 rows x 33 columns]",
      "text/html": "<div>\n<style scoped>\n    .dataframe tbody tr th:only-of-type {\n        vertical-align: middle;\n    }\n\n    .dataframe tbody tr th {\n        vertical-align: top;\n    }\n\n    .dataframe thead th {\n        text-align: right;\n    }\n</style>\n<table border=\"1\" class=\"dataframe\">\n  <thead>\n    <tr style=\"text-align: right;\">\n      <th></th>\n      <th>plandesc</th>\n      <th>channelname</th>\n      <th>family</th>\n      <th>subfamily</th>\n      <th>department</th>\n      <th>stylecolordescription</th>\n      <th>skugenter</th>\n      <th>skurangesegment</th>\n      <th>primarycluster</th>\n      <th>secondarycluster</th>\n      <th>...</th>\n      <th>sales_val_across_specific_cluster</th>\n      <th>sales_val_across_all_cluster</th>\n      <th>sales_val_nonma_overall</th>\n      <th>salesvalall</th>\n      <th>totalstock</th>\n      <th>warehouse_inv</th>\n      <th>weeks_on_sale</th>\n      <th>client_id</th>\n      <th>region_id</th>\n      <th>str_cnt</th>\n    </tr>\n  </thead>\n  <tbody>\n    <tr>\n      <th>0</th>\n      <td>308 Handbag basic demo tne</td>\n      <td>CH0005</td>\n      <td>Handbag</td>\n      <td>Baby bag</td>\n      <td>Accessories</td>\n      <td>Handbag Baby bag Style 37682</td>\n      <td>NULL</td>\n      <td>NULL</td>\n      <td>0</td>\n      <td>NULL</td>\n      <td>...</td>\n      <td>5140</td>\n      <td>20114</td>\n      <td>15064</td>\n      <td>20114</td>\n      <td>142</td>\n      <td>1202</td>\n      <td>NULL</td>\n      <td>3</td>\n      <td>1</td>\n      <td>1</td>\n    </tr>\n    <tr>\n      <th>1</th>\n      <td>308 Handbag basic demo tne</td>\n      <td>CH0005</td>\n      <td>Handbag</td>\n      <td>Baby bag</td>\n      <td>Accessories</td>\n      <td>Handbag Baby bag Style 37682</td>\n      <td>NULL</td>\n      <td>NULL</td>\n      <td>1</td>\n      <td>NULL</td>\n      <td>...</td>\n      <td>4179</td>\n      <td>20114</td>\n      <td>15064</td>\n      <td>20114</td>\n      <td>111</td>\n      <td>1202</td>\n      <td>NULL</td>\n      <td>3</td>\n      <td>1</td>\n      <td>1</td>\n    </tr>\n    <tr>\n      <th>2</th>\n      <td>308 Handbag basic demo tne</td>\n      <td>CH0005</td>\n      <td>Handbag</td>\n      <td>Baby bag</td>\n      <td>Accessories</td>\n      <td>Handbag Baby bag Style 37682</td>\n      <td>NULL</td>\n      <td>NULL</td>\n      <td>2</td>\n      <td>NULL</td>\n      <td>...</td>\n      <td>4894</td>\n      <td>20114</td>\n      <td>15064</td>\n      <td>20114</td>\n      <td>165</td>\n      <td>2404</td>\n      <td>NULL</td>\n      <td>3</td>\n      <td>1</td>\n      <td>1</td>\n    </tr>\n    <tr>\n      <th>3</th>\n      <td>308 Handbag basic demo tne</td>\n      <td>CH0005</td>\n      <td>Handbag</td>\n      <td>Baby bag</td>\n      <td>Accessories</td>\n      <td>Handbag Baby bag Style 37682</td>\n      <td>NULL</td>\n      <td>NULL</td>\n      <td>3</td>\n      <td>NULL</td>\n      <td>...</td>\n      <td>3310</td>\n      <td>20114</td>\n      <td>15064</td>\n      <td>20114</td>\n      <td>103</td>\n      <td>1202</td>\n      <td>NULL</td>\n      <td>3</td>\n      <td>1</td>\n      <td>1</td>\n    </tr>\n    <tr>\n      <th>4</th>\n      <td>308 Handbag basic demo tne</td>\n      <td>CH0005</td>\n      <td>Handbag</td>\n      <td>Baby bag</td>\n      <td>Accessories</td>\n      <td>Handbag Baby bag Style 37682</td>\n      <td>NULL</td>\n      <td>NULL</td>\n      <td>4</td>\n      <td>NULL</td>\n      <td>...</td>\n      <td>2073</td>\n      <td>20114</td>\n      <td>15064</td>\n      <td>20114</td>\n      <td>61</td>\n      <td>1202</td>\n      <td>NULL</td>\n      <td>3</td>\n      <td>1</td>\n      <td>1</td>\n    </tr>\n    <tr>\n      <th>...</th>\n      <td>...</td>\n      <td>...</td>\n      <td>...</td>\n      <td>...</td>\n      <td>...</td>\n      <td>...</td>\n      <td>...</td>\n      <td>...</td>\n      <td>...</td>\n      <td>...</td>\n      <td>...</td>\n      <td>...</td>\n      <td>...</td>\n      <td>...</td>\n      <td>...</td>\n      <td>...</td>\n      <td>...</td>\n      <td>...</td>\n      <td>...</td>\n      <td>...</td>\n      <td>...</td>\n    </tr>\n    <tr>\n      <th>4458</th>\n      <td>308 Handbag basic demo tne</td>\n      <td>CH0005</td>\n      <td>Handbag</td>\n      <td>Tote bag</td>\n      <td>Accessories</td>\n      <td>Handbag Tote bag Style 53816</td>\n      <td>NULL</td>\n      <td>NULL</td>\n      <td>3</td>\n      <td>NULL</td>\n      <td>...</td>\n      <td>5229</td>\n      <td>28716</td>\n      <td>28716</td>\n      <td>28716</td>\n      <td>80</td>\n      <td>227</td>\n      <td>NULL</td>\n      <td>3</td>\n      <td>1</td>\n      <td>1</td>\n    </tr>\n    <tr>\n      <th>4459</th>\n      <td>308 Handbag basic demo tne</td>\n      <td>CH0005</td>\n      <td>Handbag</td>\n      <td>Tote bag</td>\n      <td>Accessories</td>\n      <td>Handbag Tote bag Style 53816</td>\n      <td>NULL</td>\n      <td>NULL</td>\n      <td>4</td>\n      <td>NULL</td>\n      <td>...</td>\n      <td>4194</td>\n      <td>28716</td>\n      <td>28716</td>\n      <td>28716</td>\n      <td>51</td>\n      <td>227</td>\n      <td>NULL</td>\n      <td>3</td>\n      <td>1</td>\n      <td>1</td>\n    </tr>\n    <tr>\n      <th>4460</th>\n      <td>308 Handbag basic demo tne</td>\n      <td>CH0005</td>\n      <td>Handbag</td>\n      <td>Tote bag</td>\n      <td>Accessories</td>\n      <td>Handbag Tote bag Style 53816</td>\n      <td>NULL</td>\n      <td>NULL</td>\n      <td>5</td>\n      <td>NULL</td>\n      <td>...</td>\n      <td>1520</td>\n      <td>28716</td>\n      <td>28716</td>\n      <td>28716</td>\n      <td>9</td>\n      <td>227</td>\n      <td>NULL</td>\n      <td>3</td>\n      <td>1</td>\n      <td>1</td>\n    </tr>\n    <tr>\n      <th>4461</th>\n      <td>308 Handbag basic demo tne</td>\n      <td>CH0005</td>\n      <td>Handbag</td>\n      <td>Tote bag</td>\n      <td>Accessories</td>\n      <td>Handbag Tote bag Style 53820</td>\n      <td>NULL</td>\n      <td>NULL</td>\n      <td>2</td>\n      <td>NULL</td>\n      <td>...</td>\n      <td>279</td>\n      <td>419</td>\n      <td>419</td>\n      <td>419</td>\n      <td>2</td>\n      <td>0</td>\n      <td>NULL</td>\n      <td>3</td>\n      <td>1</td>\n      <td>1</td>\n    </tr>\n    <tr>\n      <th>4462</th>\n      <td>308 Handbag basic demo tne</td>\n      <td>CH0005</td>\n      <td>Handbag</td>\n      <td>Tote bag</td>\n      <td>Accessories</td>\n      <td>Handbag Tote bag Style 53820</td>\n      <td>NULL</td>\n      <td>NULL</td>\n      <td>3</td>\n      <td>NULL</td>\n      <td>...</td>\n      <td>139</td>\n      <td>419</td>\n      <td>419</td>\n      <td>419</td>\n      <td>1</td>\n      <td>0</td>\n      <td>NULL</td>\n      <td>3</td>\n      <td>1</td>\n      <td>1</td>\n    </tr>\n  </tbody>\n</table>\n<p>4463 rows × 33 columns</p>\n</div>"
     },
     "execution_count": 16,
     "metadata": {},
     "output_type": "execute_result"
    }
   ],
   "source": [
    "df = db_session.get_table(\"ao_data_master\")\n",
    "df"
   ],
   "metadata": {
    "collapsed": false,
    "ExecuteTime": {
     "end_time": "2025-02-10T20:11:37.286080Z",
     "start_time": "2025-02-10T20:11:34.654672Z"
    }
   },
   "id": "9ce5c6003fce18d2"
  }
 ],
 "metadata": {
  "kernelspec": {
   "display_name": "Python 3 (ipykernel)",
   "language": "python",
   "name": "python3"
  },
  "language_info": {
   "codemirror_mode": {
    "name": "ipython",
    "version": 3
   },
   "file_extension": ".py",
   "mimetype": "text/x-python",
   "name": "python",
   "nbconvert_exporter": "python",
   "pygments_lexer": "ipython3",
   "version": "3.11.9"
  }
 },
 "nbformat": 4,
 "nbformat_minor": 5
}
